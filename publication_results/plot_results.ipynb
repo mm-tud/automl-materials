{
 "cells": [
  {
   "cell_type": "code",
   "execution_count": null,
   "id": "9e75e76e",
   "metadata": {},
   "outputs": [],
   "source": [
    "import os\n",
    "import pandas as pd\n",
    "import numpy as np\n",
    "import plotly.graph_objects as go\n",
    "import plotly.express as px\n",
    "import plotly.io as pio   \n",
    "pio.kaleido.scope.mathjax = None"
   ]
  },
  {
   "cell_type": "code",
   "execution_count": null,
   "id": "87779232",
   "metadata": {},
   "outputs": [],
   "source": [
    "rootdir = os.getcwd()\n",
    "df_lit = pd.read_csv('literature.csv',delimiter=';')\n",
    "metric_dict = {'15_min':['r2','rmse','mse','mae'], '60_min' : ['r2','rmse','mse','mae','mape']}\n",
    "size_dict = {'uci': {'size': 1030, 'feat': 8}, 'atici': {'size': 140, 'feat': 3},\n",
    "             'bachir': {'size': 112, 'feat': 3}, 'koya': {'size': 110, 'feat': 10},\n",
    "             'huang': {'size': 114, 'feat': 9}, 'hu_tensile-strength': {'size': 896, 'feat': 27},\n",
    "             'hu_yield-strength': {'size': 860, 'feat': 27}, 'hu_elongation': {'size': 783, 'feat': 27},\n",
    "             'yin': {'size': 900, 'feat': 11}, 'su_bond-1': {'size': 122, 'feat': 7},  \n",
    "             'su_bond-2': {'size': 136, 'feat': 5}, 'xiong': {'size': 43, 'feat': 4}, \n",
    "             'guo': {'size': 63162, 'feat':27}, 'mat-bench': {'size': 312, 'feat': 14}} \n",
    "lit_dict = { 'koya_rup': {'range': [0.238,1.26]},\n",
    "             'koya_compressive': {'range': [0.568,1.23]},\n",
    "             'hu_tensile-strength': {'range': [0.9901,1.0099]},\n",
    "             'hu_yield-strength': {'range': [0.9824,1.0176]},\n",
    "             'hu_elongation': {'range': [0.9417,1.0583]}\n",
    "           }"
   ]
  },
  {
   "cell_type": "code",
   "execution_count": null,
   "id": "b05336cf",
   "metadata": {},
   "outputs": [],
   "source": [
    "def get_df_all(data_folder):\n",
    "    data_dir = os.path.join(rootdir , data_folder)\n",
    "    df_all = pd.DataFrame()\n",
    "    for framework in os.listdir(data_dir):\n",
    "        for dataset in os.listdir(os.path.join(data_dir,framework)):\n",
    "            df = pd.read_csv(os.path.join(data_dir,framework,dataset,'regression_summary.csv'))\n",
    "            df['Framework'] = framework\n",
    "            df['Task'] = '_'.join(dataset.split(\"_\", 2)[:2])\n",
    "            df_all = df_all.append(df)\n",
    "    df_all = df_all.reset_index(drop=True)\n",
    "    df_all['Size'] = 'nan'\n",
    "    df_all['Shape_ratio'] = 'nan'\n",
    "    df_all['relative_score'] = np.nan\n",
    "    for metric in metric_dict[data_folder]:\n",
    "        for x in range(len(df_all)):\n",
    "            task = df_all['Task'].loc[x]\n",
    "            if metric == 'r2':\n",
    "                df_all.at[x,'relative_{}'.format(metric)] = df_all.loc[x,metric]/df_lit[metric].loc[df_lit['Task']==task].max()\n",
    "            else:\n",
    "                df_all.at[x,'relative_{}'.format(metric)] = 1/(df_all.loc[x,metric]/df_lit[metric].loc[df_lit['Task']==task].min())           \n",
    "            if not(np.isfinite(df_all.loc[x,'relative_score'])):# and not(df_all.loc[x,'relative_{}'.format(metric)]==0):\n",
    "                df_all.at[x,'relative_score'] = df_all.loc[x,'relative_{}'.format(metric)]    \n",
    "            \n",
    "            # Append size and shape_ratio\n",
    "            # Extra for Su and Hu, because of 2 different dataset sizes for Su, and Hu task depending\n",
    "            if df_all.at[x,'Task'].split('_')[0] in ['su','hu']:\n",
    "                df_all.at[x,'Size'] = size_dict[df_all.at[x,'Task']]['size']\n",
    "                df_all.at[x,'Shape_ratio'] = (size_dict[df_all.at[x,'Task']]['size']/\n",
    "                                              size_dict[df_all.at[x,'Task']]['feat'])\n",
    "            else:  \n",
    "                df_all.at[x,'Size'] = size_dict[df_all.at[x,'Task'].split('_')[0]]['size']\n",
    "                df_all.at[x,'Shape_ratio'] = (size_dict[df_all.at[x,'Task'].split('_')[0]]['size']/\n",
    "                                              size_dict[df_all.at[x,'Task'].split('_')[0]]['feat'])\n",
    "    df_all['Time'] = data_folder\n",
    "    return df_all.sort_values(by=['Size','Task'],ascending=[True, False])\n",
    "\n",
    "def plot_df_all(df_all,colums=None,target='relative_score',save_fig=False,x_range=None):\n",
    "    dict_all = {'tpot': {'colour':'#0b0305'},\n",
    "                'mljar': {'colour':'#403b7a'},\n",
    "                'h2o': {'colour':'#3575a1'},\n",
    "                'autosklearn': {'colour':'#62cfac'}              \n",
    "                }\n",
    "\n",
    "    layout = go.Layout(\n",
    "        xaxis=dict(title=target,title_font={'size':20},tickfont={'size':16}, \n",
    "                   zeroline=False,linecolor='black',gridcolor='#cccccc'),\n",
    "        yaxis=dict(linecolor='black',title_font={'size':20},tickfont={'size':16}),\n",
    "        boxmode='group',\n",
    "        plot_bgcolor='white',\n",
    "        #xaxis_title=target.replace('_',' '),\n",
    "        legend=dict(traceorder='reversed',font_size=18,orientation=\"h\",\n",
    "                    yanchor=\"top\",y=1.1,xanchor='center',x=0.5)\n",
    "    )\n",
    "\n",
    "    fig = go.Figure(layout=layout)\n",
    "    if colums:\n",
    "        df_all = df_all[df_all.Task.isin(colums)]\n",
    "\n",
    "    for framework_name, framework_dict in dict_all.items():\n",
    "        fig.add_trace(go.Box(\n",
    "            x = df_all[target].loc[df_all['Framework']==framework_name],\n",
    "            y = df_all['Task'].loc[df_all['Framework']==framework_name],\n",
    "            name=framework_name,\n",
    "            #fillcolor=framework_dict['colour'],\n",
    "            #line_color='black',\n",
    "            #line_width=1\n",
    "            marker_color=framework_dict['colour']\n",
    "        ))\n",
    "\n",
    "    if 'relative' in target:\n",
    "        fig.add_vline(x=1, line_color=\"black\")\n",
    "    else:\n",
    "        for task in df_lit['Task'].unique():\n",
    "            max_value = df_lit['r2'].loc[df_lit['Task']==task].max()\n",
    "            fig.add_trace(go.Scatter(mode='markers',x=[max_value],y=[task],marker_symbol='line-ns',\n",
    "                                     marker_line_color=\"midnightblue\", marker_color=\"lightskyblue\",\n",
    "                                     marker_line_width=3, marker_size=20,showlegend=False))\n",
    "\n",
    "    # literature range\n",
    "    lit_colour = 'black'\n",
    "    for counter, lit in enumerate((lit_dict.keys() & df_all['Task'].unique())):\n",
    "        if counter == 0:\n",
    "            legend_indicator = True\n",
    "        else: \n",
    "            legend_indicator = False\n",
    "        range_ = lit_dict[lit]['range']\n",
    "        fig.add_trace(go.Scatter(x=range_, y=[lit,lit],mode='lines',line_width=5,line_color=lit_colour,\n",
    "                                 name='literature', showlegend=legend_indicator))\n",
    "        fig.add_trace(go.Scatter(mode='markers',x=[range_[0]],y=[lit],marker_symbol='line-ns',marker_line_color=lit_colour,\n",
    "                                 marker_line_width=5, marker_size=10,marker_color=lit_colour,\n",
    "                                 showlegend=False))\n",
    "        fig.add_trace(go.Scatter(mode='markers',x=[range_[1]],y=[lit],marker_symbol='line-ns',marker_line_color=lit_colour,\n",
    "                                 marker_line_width=5, marker_size=10,marker_color=lit_colour,\n",
    "                                 showlegend=False))\n",
    "    \n",
    "    #fig.update_traces(width=1, selector=dict(type='box'))\n",
    "    fig.update_traces(orientation='h') # horizontal box plots\n",
    "    fig.update_traces(whiskerwidth=1, selector=dict(type='box'))\n",
    "    if x_range:\n",
    "        fig.update_layout(xaxis_range=x_range)\n",
    "    fig.update_layout(width=1000, height=1000)\n",
    "    #fig.update_layout(boxgap=0.15, boxgroupgap=0.4)\n",
    "    if save_fig:\n",
    "        fig.write_image(save_fig)\n",
    "    fig.show()\n"
   ]
  },
  {
   "cell_type": "markdown",
   "id": "d8d2a89c",
   "metadata": {},
   "source": [
    "## Plot Results over all Datasets"
   ]
  },
  {
   "cell_type": "code",
   "execution_count": null,
   "id": "4acbee86",
   "metadata": {},
   "outputs": [],
   "source": [
    "df_all = get_df_all('60_min')\n",
    "plot_df_all(df_all)"
   ]
  },
  {
   "cell_type": "markdown",
   "id": "ebc2143f",
   "metadata": {},
   "source": [
    "## Plot Very Small Datasets\n",
    "- Figure 5 Very Small Datasets"
   ]
  },
  {
   "cell_type": "code",
   "execution_count": null,
   "id": "70526909",
   "metadata": {},
   "outputs": [],
   "source": [
    "very_small_datasets =['su_bond-1','huang_flex','huang_compressive',\n",
    "                 'bachir_compressive','koya_compressive','koya_rup',\n",
    "                 'xiong_heigth','xiong_width','atici_compressive',\n",
    "                 'su_bond-2']\n",
    "plot_df_all(df_all,colums=very_small_datasets,x_range=[0,2.05])#,save_fig='AutoML_small_datasets.svg')"
   ]
  },
  {
   "cell_type": "markdown",
   "id": "eae676e7",
   "metadata": {},
   "source": [
    "## Plot Small and Large Datasets\n",
    "- Figure 5 Small and Large Datasets"
   ]
  },
  {
   "cell_type": "code",
   "execution_count": null,
   "id": "50b93444",
   "metadata": {},
   "outputs": [],
   "source": [
    "large_datasets =['guo_tensile','guo_elongation','guo_yield',\n",
    "                 'hu_elongation','hu_yield-strength','hu_tensile-strength',\n",
    "                 'uci_compressive','yin_ifss','yin_pullout-force', 'mat-bench_yts']\n",
    "plot_df_all(df_all,colums=large_datasets,x_range=[0.83,1.405])#,save_fig='AutoML_large_datasets_review.svg')"
   ]
  },
  {
   "cell_type": "markdown",
   "id": "6d12ea07",
   "metadata": {},
   "source": [
    "## Data Preperation for Summarizing per Framework"
   ]
  },
  {
   "cell_type": "code",
   "execution_count": null,
   "id": "a6f0edab",
   "metadata": {},
   "outputs": [],
   "source": [
    "# Summarazing results\n",
    "df_result = pd.concat([get_df_all('15_min'),get_df_all('60_min')])\n",
    "df_result  = df_result.groupby(by=['Time','Framework','Task','Size','Shape_ratio'],as_index=False).mean()\n",
    "df_best = df_result.groupby(by=['Time','Task','Size','Shape_ratio'],as_index=False).agg({'relative_r2':np.max,'relative_rmse':np.max})\n",
    "df_best['Framework'] = 'best AutoML'\n",
    "df_result = pd.concat([df_result, df_best])\n",
    "df_result.Time = df_result.Time.replace(to_replace='_', value=' ',regex=True)"
   ]
  },
  {
   "cell_type": "markdown",
   "id": "946c68e4",
   "metadata": {},
   "source": [
    "## Plot summarized Results\n",
    "- METRIC = 'relative_r2'\n",
    "  - Figure 4 (a)\n",
    "- METRIC = 'relative_rmse'\n",
    "  - Figure 4 (b)"
   ]
  },
  {
   "cell_type": "code",
   "execution_count": null,
   "id": "63780f3e",
   "metadata": {
    "scrolled": true
   },
   "outputs": [],
   "source": [
    "import plotly.express as px\n",
    "import plotly.graph_objects as go\n",
    "\n",
    "METRIC = 'relative_rmse'\n",
    "\n",
    "layout = go.Layout(#yaxis_range=[0.6,2.1],\n",
    "                   yaxis=dict(title=METRIC,title_font={'size':20},tickfont={'size':16}, \n",
    "                              zeroline=False,linecolor='black',gridcolor='#cccccc'),\n",
    "                   xaxis=dict(title=None,linecolor='black',title_font={'size':20},tickfont={'size':16},),\n",
    "                   boxmode='group',\n",
    "                   plot_bgcolor='white',\n",
    "                   legend=dict(font_size=18,orientation=\"h\",yanchor=\"top\",y=1.1,xanchor='center',x=0.5)\n",
    "                   )\n",
    "\n",
    "fig = go.Figure(layout=layout)\n",
    "\n",
    "dict_time = {'15 min': {'colour':'#62cfac'},\n",
    "             '60 min': {'colour':'#0b0305'},\n",
    "            }\n",
    "\n",
    "\n",
    "for time, time_specs in dict_time.items():\n",
    "    fig.add_trace(go.Box(\n",
    "            y = df_result[METRIC].loc[df_result['Time']==time],\n",
    "            x = df_result['Framework'].loc[df_result['Time']==time],\n",
    "            name = time,\n",
    "            marker_color=time_specs['colour'],\n",
    "            #fillcolor=framework_dict['colour'],\n",
    "            #line_color='black',\n",
    "            line_width=1.5,\n",
    "            #boxpoints='all'\n",
    "        ))\n",
    "\n",
    "\n",
    "fig.add_hline(y=1, line_color=\"black\")\n",
    "fig.update_traces(whiskerwidth=1, selector=dict(type='box'))\n",
    "fig.update_traces(quartilemethod=\"exclusive\") # or \"inclusive\", or \"linear\" by default\n",
    "fig.write_image(\"AutoML_summary.svg\")\n",
    "\n",
    "fig.show()"
   ]
  },
  {
   "cell_type": "markdown",
   "id": "aaf21931",
   "metadata": {},
   "source": [
    "## Plot Size, Shape over Performance"
   ]
  },
  {
   "cell_type": "markdown",
   "id": "ef86496c",
   "metadata": {},
   "source": [
    "### Figure 6(a)"
   ]
  },
  {
   "cell_type": "code",
   "execution_count": null,
   "id": "f8fe1fb8",
   "metadata": {},
   "outputs": [],
   "source": [
    "layout = go.Layout(yaxis_range=[0,1.1],\n",
    "                   yaxis=dict(title='R2',title_font={'size':20},tickfont={'size':16}, \n",
    "                              zeroline=False,linecolor='black',gridcolor='#cccccc'),\n",
    "                   #xaxis_range=[1.6,3.1],\n",
    "                   xaxis=dict(title='Dataset size',linecolor='black',title_font={'size':20},tickfont={'size':16}),\n",
    "                   plot_bgcolor='white',\n",
    "                   colorway=['#3575a1'],\n",
    "                   )\n",
    "\n",
    "fig = go.Figure(layout=layout)\n",
    "df_plot = df_result.loc[(df_result['Framework']!='best AutoML')&(df_result['Time']=='60 min')]\n",
    "\n",
    "fig.add_trace(go.Box(\n",
    "        y = df_plot['r2'],\n",
    "        x = df_plot['Size'],\n",
    "        line_width=1.5,\n",
    "        width = 0.035,\n",
    "        fillcolor='#aec7d9',\n",
    "        whiskerwidth=0\n",
    "    ))\n",
    "\n",
    "fig.update_xaxes(type=\"log\")\n",
    "fig.write_image(\"R2_over_datasize.svg\")\n",
    "fig.show()"
   ]
  },
  {
   "cell_type": "markdown",
   "id": "a60a8030",
   "metadata": {},
   "source": [
    "### Figure 6 (b)"
   ]
  },
  {
   "cell_type": "code",
   "execution_count": null,
   "id": "3c4e2b39",
   "metadata": {},
   "outputs": [],
   "source": [
    "layout = go.Layout(yaxis_range=[0,1.1],\n",
    "                   yaxis=dict(title='R2',title_font={'size':20},tickfont={'size':16}, \n",
    "                              zeroline=False,linecolor='black',gridcolor='#cccccc'),\n",
    "                   #xaxis_range=[3,4.2],\n",
    "                   xaxis=dict(title='Dataset size / Feature number',linecolor='black',title_font={'size':20},tickfont={'size':16}),\n",
    "                   plot_bgcolor='white',\n",
    "                   colorway=['#3575a1'],\n",
    "                   )\n",
    "\n",
    "fig = go.Figure(layout=layout)\n",
    "\n",
    "df_plot = df_result.loc[(df_result['Framework']!='best AutoML')&(df_result['Time']=='60 min')]\n",
    "fig.add_trace(go.Box(\n",
    "        y = df_plot['r2'],\n",
    "        x = df_plot['Shape_ratio'],\n",
    "        line_width=1.5,\n",
    "        width = 0.03,\n",
    "        fillcolor='#aec7d9'\n",
    "\n",
    "    ))\n",
    "\n",
    "fig.update_xaxes(type=\"log\")\n",
    "fig.write_image(\"R2_over_datashape.svg\")\n",
    "fig.show()"
   ]
  },
  {
   "cell_type": "code",
   "execution_count": null,
   "id": "b703d1e0",
   "metadata": {},
   "outputs": [],
   "source": []
  },
  {
   "cell_type": "code",
   "execution_count": null,
   "id": "81d2ed26",
   "metadata": {},
   "outputs": [],
   "source": []
  }
 ],
 "metadata": {
  "kernelspec": {
   "display_name": "Python 3 (ipykernel)",
   "language": "python",
   "name": "python3"
  },
  "language_info": {
   "codemirror_mode": {
    "name": "ipython",
    "version": 3
   },
   "file_extension": ".py",
   "mimetype": "text/x-python",
   "name": "python",
   "nbconvert_exporter": "python",
   "pygments_lexer": "ipython3",
   "version": "3.8.0"
  }
 },
 "nbformat": 4,
 "nbformat_minor": 5
}
